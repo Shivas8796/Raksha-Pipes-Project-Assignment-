{
 "cells": [
  {
   "cell_type": "code",
   "execution_count": 1,
   "id": "f4eac490",
   "metadata": {},
   "outputs": [],
   "source": [
    "import pandas as pd\n",
    "import numpy as np"
   ]
  },
  {
   "cell_type": "code",
   "execution_count": 2,
   "id": "ff750801",
   "metadata": {},
   "outputs": [
    {
     "name": "stdout",
     "output_type": "stream",
     "text": [
      "Requirement already satisfied: Faker in c:\\users\\shree\\anaconda3\\lib\\site-packages (25.1.0)\n",
      "Requirement already satisfied: python-dateutil>=2.4 in c:\\users\\shree\\anaconda3\\lib\\site-packages (from Faker) (2.8.2)\n",
      "Requirement already satisfied: six>=1.5 in c:\\users\\shree\\anaconda3\\lib\\site-packages (from python-dateutil>=2.4->Faker) (1.16.0)\n",
      "Note: you may need to restart the kernel to use updated packages.\n"
     ]
    }
   ],
   "source": [
    "pip install Faker"
   ]
  },
  {
   "cell_type": "code",
   "execution_count": 57,
   "id": "cb40896d",
   "metadata": {},
   "outputs": [
    {
     "name": "stdout",
     "output_type": "stream",
     "text": [
      "    customersID             Name  \\\n",
      "0           419    Jhanvi Mannan   \n",
      "1           860    Gokul Khurana   \n",
      "2           546        Eva Dewan   \n",
      "3           807        Tiya Bose   \n",
      "4           182   Dharmajan Brar   \n",
      "..          ...              ...   \n",
      "496         209     Kimaya Sarin   \n",
      "497         205    Devansh Devan   \n",
      "498         444       Arnav Deep   \n",
      "499         980       Shlok Apte   \n",
      "500         349  Shray Varughese   \n",
      "\n",
      "                                          Address                       Email  \\\n",
      "0            63/02, Tandon Road, Alappuzha-359096  mehulvarughese@example.net   \n",
      "1            62/778, Ravel Nagar, Bhiwandi 845269             bde@example.net   \n",
      "2        59/369, Bhandari Marg, Chandigarh-764328            jsur@example.net   \n",
      "3               42, Hans Street, Ozhukarai-115749          urvi33@example.org   \n",
      "4            H.No. 615, Ram Ganj, Ludhiana 238585         abram82@example.net   \n",
      "..                                            ...                         ...   \n",
      "496                   15, Johal, Firozabad 928684      behlsamiha@example.net   \n",
      "497              870, Vasa Zila, Karaikudi-833821      chiragravi@example.net   \n",
      "498  H.No. 25, Thaman Road, Tadepalligudem 725955        wagleela@example.com   \n",
      "499      H.No. 380, Manne Road, Berhampore 586422       hridaan78@example.org   \n",
      "500               183, Doctor Chowk, Bhind 315073       ychandran@example.org   \n",
      "\n",
      "      Phone Number                               Job                Company  \n",
      "0       9681054520               Mechanical engineer            Halder-Arya  \n",
      "1       2853672317                Engineer, chemical              Batra-Vig  \n",
      "2       4707414196                    Health visitor              Sarin Ltd  \n",
      "3    +910863977490              Licensed conveyancer              Divan LLC  \n",
      "4    +919720196160                      Risk analyst           Basu-Iyengar  \n",
      "..             ...                               ...                    ...  \n",
      "496     4350290975                        Geochemist                Bir LLC  \n",
      "497  +918862711731      Garment/textile technologist             Keer-Koshy  \n",
      "498     2514443236                    Pilot, airline  Ram, Kadakia and Rout  \n",
      "499     0630782182              Intelligence analyst               Chad PLC  \n",
      "500     5026929334  Education officer, environmental         Upadhyay Group  \n",
      "\n",
      "[501 rows x 7 columns]\n"
     ]
    }
   ],
   "source": [
    "from faker import Faker\n",
    "import pandas as pd\n",
    "from tabulate import tabulate\n",
    "\n",
    "\n",
    "# Create Faker instance\n",
    "fake = Faker(locale='EN_IN')\n",
    "\n",
    "# Generate fake data\n",
    "Customers = {\n",
    "    'customersID':[str(fake.random_number(digits=3)).zfill(3) for _ in range(501)],\n",
    "    'Name': [fake.name() for _ in range(501)],\n",
    "    'Address': [fake.address().replace('\\n', ', ') for _ in range(501)],\n",
    "    'Email': [fake.email() for _ in range(501)],\n",
    "    'Phone Number': [fake.phone_number() for _ in range(501)],\n",
    "    'Job': [fake.job() for _ in range(501)],\n",
    "    'Company': [fake.company() for _ in range(501)]\n",
    "}\n",
    "\n",
    "# Convert to DataFrame\n",
    "df = pd.DataFrame(Customers)\n",
    "\n",
    "# Output the DataFrame\n",
    "print(df)\n"
   ]
  },
  {
   "cell_type": "code",
   "execution_count": 58,
   "id": "e38c25cb",
   "metadata": {},
   "outputs": [],
   "source": [
    "df.to_csv('Personal Details.csv', index=False)"
   ]
  },
  {
   "cell_type": "code",
   "execution_count": 59,
   "id": "466a4e54",
   "metadata": {
    "scrolled": true
   },
   "outputs": [
    {
     "name": "stdout",
     "output_type": "stream",
     "text": [
      "    Shipper_ID        Product     Sizes   Price  Quantity        Date\n",
      "0          386      PVC pipes  6 inches  934.96        71  2024-01-15\n",
      "1          430      Couplings  8 inches  478.26        69  2023-12-17\n",
      "2          714     Drain Pipe  4 inches  107.36        64  2023-08-23\n",
      "3          298      PVC pipes  8 inches   84.17        68  2023-09-30\n",
      "4          792         Wrench  6 inches  110.57        51  2024-04-25\n",
      "..         ...            ...       ...     ...       ...         ...\n",
      "995        024       Fauckets  6 inches  229.97         7  2024-04-10\n",
      "996        102  Drain Cleaner    2 inch  616.27        79  2024-02-13\n",
      "997        337       Fauckets    2 inch  862.84        18  2023-07-22\n",
      "998        841     Drain Pipe  4 inches  150.20        15  2023-08-19\n",
      "999        050           Taps    2 inch  345.57        64  2023-10-27\n",
      "\n",
      "[1000 rows x 6 columns]\n"
     ]
    }
   ],
   "source": [
    "from faker import Faker\n",
    "import pandas as pd\n",
    "import random\n",
    "from datetime import datetime, timedelta\n",
    "\n",
    "# Create Faker instance\n",
    "fake = Faker()\n",
    "\n",
    "# Generate fake sales data\n",
    "Sale_data = {\n",
    "    'Shipper_ID':[str(fake.random_number(digits=3)).zfill(3) for _ in range(1000)],\n",
    "    'Product': [fake.random_element(elements=['Wrench','PVC pipes','Copper pipes','Galvanized steel pipes','PEX pipes','Couplings','Sinks','Toilets','Taps','Showers','Fauckets','Bathtub','Drain Cleaner', 'Drain Pipe','Water tanks','Gas Heater','Electric Heater']) for _ in range(1000)],\n",
    "    'Sizes': [fake.random_element(elements=['2 inch' ,'4 inches', '6 inches','8 inches']) for _ in range(1000)],\n",
    "    'Price': [round(random.uniform(10, 1000), 2) for _ in range(1000)],\n",
    "    'Quantity': [random.randint(1, 100) for _ in range(1000)],\n",
    "    'Date': [(datetime.now() - timedelta(days=random.randint(1, 365))).strftime('%Y-%m-%d') for _ in range(1000)]\n",
    "}\n",
    "\n",
    "# Convert to DataFrame\n",
    "df = pd.DataFrame(Sale_data)\n",
    "\n",
    "# Output the DataFrame\n",
    "print(df)\n"
   ]
  },
  {
   "cell_type": "code",
   "execution_count": 60,
   "id": "3c0ce48a",
   "metadata": {},
   "outputs": [],
   "source": [
    "df.to_csv('Year on Year Sales.csv', index=False)"
   ]
  },
  {
   "cell_type": "code",
   "execution_count": 17,
   "id": "3f763af9",
   "metadata": {},
   "outputs": [],
   "source": []
  },
  {
   "cell_type": "code",
   "execution_count": 100,
   "id": "664f675d",
   "metadata": {},
   "outputs": [
    {
     "name": "stdout",
     "output_type": "stream",
     "text": [
      "    Order ID Product ID Customer ID  Total_order_amount  Order Date Shipper_ID\n",
      "0        225        323         917              183345  2022-11-28        635\n",
      "1        204        225         165              505000  2021-04-09        704\n",
      "2        949        681         239              706857  2021-03-09        122\n",
      "3        575        172         448              611548  2023-09-14        202\n",
      "4        998        912         251              553424  2022-11-03        149\n",
      "..       ...        ...         ...                 ...         ...        ...\n",
      "995      674        407         063              202270  2022-01-30        284\n",
      "996      145        692         225              176583  2021-05-01        184\n",
      "997      102        651         608              405015  2023-12-29        224\n",
      "998      398        507         177              513563  2021-09-15        467\n",
      "999      110        366         341              725908  2021-05-25        797\n",
      "\n",
      "[1000 rows x 6 columns]\n"
     ]
    }
   ],
   "source": [
    "from faker import Faker\n",
    "import pandas as pd\n",
    "import random\n",
    "from datetime import datetime, timedelta\n",
    "\n",
    "# Create Faker instance\n",
    "fake = Faker()\n",
    "\n",
    "# Generate fake orders data\n",
    "Orders = {\n",
    "    'Order ID': [str(fake.random_number(digits=3)).zfill(3) for _ in range(1000)],\n",
    "    'Product ID': [str(fake.random_number(digits=3)).zfill(3) for _ in range(1000)],\n",
    "    'Customer ID': [str(fake.random_number(digits=3)).zfill(3) for _ in range(1000)],\n",
    "    'Total_order_amount': [random.randint(1, 1000000) for _ in range(1000)],\n",
    "    'Order Date': [(fake.date_between_dates('-3y','now') - timedelta(days=random.randint(1, 365))).strftime('%Y-%m-%d') for _ in range(1000)],\n",
    "    'Shipper_ID':[str(fake.random_number(digits=3)).zfill(3) for _ in range(1000)],\n",
    "}\n",
    "\n",
    "# Convert to DataFrame\n",
    "df = pd.DataFrame(Orders)\n",
    "\n",
    "# Output the DataFrame\n",
    "print(df)\n"
   ]
  },
  {
   "cell_type": "code",
   "execution_count": 101,
   "id": "621b0db9",
   "metadata": {},
   "outputs": [],
   "source": [
    "df.to_csv('OrdersRK1.csv', index=False)"
   ]
  },
  {
   "cell_type": "code",
   "execution_count": 76,
   "id": "aa34e383",
   "metadata": {},
   "outputs": [
    {
     "name": "stdout",
     "output_type": "stream",
     "text": [
      "  Category ID  Category Name\n",
      "0         951       Cleaning\n",
      "1         510      Fixatures\n",
      "2         172      Fixatures\n",
      "3         502          Pipes\n",
      "4         428  Pipe Fittings\n",
      "5         299          Pipes\n",
      "6         929          Water\n",
      "7          40          Water\n",
      "8         776          Tools\n",
      "9         629      Fixatures\n"
     ]
    }
   ],
   "source": [
    "from faker import Faker\n",
    "import pandas as pd\n",
    "\n",
    "# Create Faker instance\n",
    "fake = Faker()\n",
    "\n",
    "# Generate category data\n",
    "data = {\n",
    "    'Category ID': [str(fake.random_number(digits=3)).zfill(2) for _ in range(10)],\n",
    "    'Category Name': [fake.random_element(elements=['Pipes','Pipe Fittings','Fixatures','Cleaning','Drainage ','Water','Tools']) for _ in range(10)]\n",
    "}\n",
    "\n",
    "# Convert to DataFrame\n",
    "df = pd.DataFrame(data)\n",
    "\n",
    "# Output the DataFrame\n",
    "print(df)\n"
   ]
  },
  {
   "cell_type": "code",
   "execution_count": 77,
   "id": "cf71b121",
   "metadata": {},
   "outputs": [],
   "source": [
    "df.to_csv('InventoryRK.csv', index=False)"
   ]
  },
  {
   "cell_type": "code",
   "execution_count": 73,
   "id": "44c7f215",
   "metadata": {},
   "outputs": [
    {
     "name": "stdout",
     "output_type": "stream",
     "text": [
      "    Order ID Product ID  Quantity  Unit Price\n",
      "0        918        723        47       40.11\n",
      "1        800        505        30       64.28\n",
      "2        756        991       101       94.66\n",
      "3        269        027        59       56.21\n",
      "4        677        080        79       94.17\n",
      "..       ...        ...       ...         ...\n",
      "495      448        199       135       92.29\n",
      "496      062        142        22       11.92\n",
      "497      656        716        64       96.54\n",
      "498      023        986        87       66.46\n",
      "499      651        049        76       29.37\n",
      "\n",
      "[500 rows x 4 columns]\n"
     ]
    }
   ],
   "source": [
    "from faker import Faker\n",
    "import pandas as pd\n",
    "import random\n",
    "\n",
    "# Create Faker instance\n",
    "fake = Faker()\n",
    "\n",
    "# Generate fake Order_Details data\n",
    "data = {\n",
    "    'Order ID': [str(fake.random_number(digits=3)).zfill(3) for _ in range(500)],\n",
    "    'Product ID': [str(fake.random_number(digits=3)).zfill(3) for _ in range(500)],\n",
    "    'Quantity': [random.randint(1, 200) for _ in range(500)],\n",
    "    'Unit Price': [round(random.uniform(10, 100), 2) for _ in range(500)]\n",
    "}\n",
    "\n",
    "# Convert to DataFrame\n",
    "df = pd.DataFrame(data)\n",
    "\n",
    "# Output the DataFrame\n",
    "print(df)\n"
   ]
  },
  {
   "cell_type": "code",
   "execution_count": 75,
   "id": "c1d96874",
   "metadata": {},
   "outputs": [],
   "source": [
    "df.to_csv('orders recieved.csv', index=False)"
   ]
  },
  {
   "cell_type": "code",
   "execution_count": 70,
   "id": "9cc488ed",
   "metadata": {},
   "outputs": [
    {
     "name": "stdout",
     "output_type": "stream",
     "text": [
      "    Payment ID Order ID Payment Type Payment Date\n",
      "0          254      050  Credit Card   2023-07-04\n",
      "1          517      263       Cheque   2023-11-04\n",
      "2          830      436   Google Pay   2023-07-19\n",
      "3          426      622  Credit Card   2023-09-29\n",
      "4          301      107       Cheque   2024-02-10\n",
      "..         ...      ...          ...          ...\n",
      "995        472      045   Debit Card   2023-09-04\n",
      "996        344      461       Cheque   2023-07-15\n",
      "997        630      783  Credit Card   2024-05-09\n",
      "998        896      456         Cash   2023-08-31\n",
      "999        913      909       Cheque   2024-03-13\n",
      "\n",
      "[1000 rows x 4 columns]\n"
     ]
    }
   ],
   "source": [
    "from faker import Faker\n",
    "import pandas as pd\n",
    "import random\n",
    "from datetime import datetime, timedelta\n",
    "\n",
    "# Create Faker instance\n",
    "fake = Faker()\n",
    "\n",
    "# Generate fake Payments data\n",
    "data = {\n",
    "    'Payment ID': [str(fake.random_number(digits=3)).zfill(3) for _ in range(1000)],\n",
    "    'Order ID': [str(fake.random_number(digits=3)).zfill(3) for _ in range(1000)],\n",
    "    'Payment Type': [fake.random_element(elements=('Credit Card', 'Debit Card', 'PayPal', 'Cash','Cheque','RTGS','Bank Transfer','PhonePe','Google Pay')) for _ in range(1000)],\n",
    "    'Payment Date': [(datetime.now() - timedelta(days=random.randint(1, 365))).strftime('%Y-%m-%d') for _ in range(1000)]\n",
    "}\n",
    "\n",
    "# Convert to DataFrame\n",
    "df = pd.DataFrame(data)\n",
    "\n",
    "# Output the DataFrame\n",
    "print(df)"
   ]
  },
  {
   "cell_type": "code",
   "execution_count": 71,
   "id": "71cc6f82",
   "metadata": {},
   "outputs": [],
   "source": [
    "df.to_csv('AccountsRk.csv', index=False)"
   ]
  },
  {
   "cell_type": "code",
   "execution_count": 79,
   "id": "848b7f2e",
   "metadata": {},
   "outputs": [
    {
     "name": "stdout",
     "output_type": "stream",
     "text": [
      "    Supplier ID                      Supplier Name Postal Code  \\\n",
      "0           629                       Sanders-Dean       30808   \n",
      "1           149      Campbell, Ellison and Vincent       82230   \n",
      "2           083                          Oneal PLC       22960   \n",
      "3           585                         George LLC       95491   \n",
      "4           812                         Miller Ltd       56297   \n",
      "..          ...                                ...         ...   \n",
      "495         268                          Wyatt PLC       14343   \n",
      "496         033  Martinez, Mccormick and Rodriguez       53934   \n",
      "497         090                          Levy-Peck       26906   \n",
      "498         713                           Ward LLC       87616   \n",
      "499         176                      Davis-Sweeney       18298   \n",
      "\n",
      "                    City                       Country          State  \\\n",
      "0      West Jamesborough                      Pakistan        Vermont   \n",
      "1          New Jamesfurt                         Gabon         Hawaii   \n",
      "2    Port Elizabethshire                         Gabon  Massachusetts   \n",
      "3              Woodshire                        France    Connecticut   \n",
      "4              Millerton                      Dominica  New Hampshire   \n",
      "..                   ...                           ...            ...   \n",
      "495       Elizabethville                          Oman        Wyoming   \n",
      "496          Hunterburgh      Turks and Caicos Islands         Alaska   \n",
      "497        North Ryanton                         Haiti           Iowa   \n",
      "498         Mccoyborough                         Macao       Colorado   \n",
      "499         Benjaminbury  Svalbard & Jan Mayen Islands       Delaware   \n",
      "\n",
      "                           Email                 Phone Shipper_ID  \n",
      "0             rallen@example.org    393-551-8775x29781        067  \n",
      "1       anthonydavis@example.org     544-978-7719x0910        564  \n",
      "2       tblankenship@example.net  001-462-932-7059x619        183  \n",
      "3            david44@example.net          833-642-9033        324  \n",
      "4             nrubio@example.com          282.619.1780        658  \n",
      "..                           ...                   ...        ...  \n",
      "495          kharvey@example.org          602-627-6163        091  \n",
      "496        jasminfox@example.com          896-511-4884        127  \n",
      "497      morenosally@example.org  001-541-341-2955x787        630  \n",
      "498   priceelizabeth@example.net            6072907231        126  \n",
      "499  nataliegonzales@example.com          864-345-9131        205  \n",
      "\n",
      "[500 rows x 9 columns]\n"
     ]
    }
   ],
   "source": [
    "from faker import Faker\n",
    "import pandas as pd\n",
    "\n",
    "# Create Faker instance\n",
    "fake = Faker()\n",
    "\n",
    "# Generate fake Suppliers data\n",
    "data = {\n",
    "    'Supplier ID': [str(fake.random_number(digits=3)).zfill(3) for _ in range(500)],\n",
    "    'Supplier Name': [fake.company() for _ in range(500)],\n",
    "    'Postal Code': [fake.postalcode() for _ in range(500)],\n",
    "    'City': [fake.city() for _ in range(500)],\n",
    "    'Country': [fake.country() for _ in range(500)],\n",
    "    'State': [fake.state() for _ in range(500)],\n",
    "    'Email': [fake.email() for _ in range(500)],\n",
    "    'Phone': [fake.phone_number() for _ in range(500)],\n",
    "    'Shipper_ID':[str(fake.random_number(digits=3)).zfill(3) for _ in range(500)]\n",
    "}\n",
    "\n",
    "# Convert to DataFrame\n",
    "df = pd.DataFrame(data)\n",
    "\n",
    "# Output the DataFrame\n",
    "print(df)"
   ]
  },
  {
   "cell_type": "code",
   "execution_count": 80,
   "id": "fce0950a",
   "metadata": {},
   "outputs": [],
   "source": [
    "df.to_csv('shippersRK.csv', index=False)"
   ]
  },
  {
   "cell_type": "code",
   "execution_count": 98,
   "id": "acb1b87e",
   "metadata": {},
   "outputs": [
    {
     "name": "stdout",
     "output_type": "stream",
     "text": [
      "   Product ID Category ID                 Product       Category  Price  \\\n",
      "0         121         420                   Sinks       Fixtures    104   \n",
      "1         242         435                  Wrench          Tools    437   \n",
      "2         630         994               PEX pipes          Pipes    403   \n",
      "3         407         159  Galvanized steel pipes          Pipes    877   \n",
      "4         079         313               PVC pipes          Pipes    886   \n",
      "5         963         780            Copper pipes          Pipes    715   \n",
      "6         066         758               Couplings  Pipe Fittings    320   \n",
      "7         716         826            Copper pipes          Pipes    498   \n",
      "8         582          65             Water tanks       Drainage    634   \n",
      "9         591         425                   Sinks       Fixtures    645   \n",
      "10        044         735                 Urinals       Fixtures    715   \n",
      "11        400         474                 Showers       Fixtures    838   \n",
      "12        039         621                 Toilets       Fixtures    600   \n",
      "13        415         261            Water meters          Other    974   \n",
      "14        563         497            Copper pipes          Pipes    606   \n",
      "15        894         420            Water meters          Other    203   \n",
      "16        805         972                    Taps       Fixtures     28   \n",
      "17        715         582                 Bathtub       Fixtures    107   \n",
      "18        386         540                 Bathtub       Fixtures    991   \n",
      "19        628         803               Couplings  Pipe Fittings    830   \n",
      "20        234         892  Galvanized steel pipes          Pipes    964   \n",
      "\n",
      "    Stock Quantity  \n",
      "0              742  \n",
      "1              245  \n",
      "2              715  \n",
      "3              383  \n",
      "4              107  \n",
      "5              306  \n",
      "6              815  \n",
      "7              890  \n",
      "8              143  \n",
      "9              509  \n",
      "10              89  \n",
      "11              70  \n",
      "12             655  \n",
      "13             686  \n",
      "14             619  \n",
      "15             323  \n",
      "16             896  \n",
      "17             628  \n",
      "18             775  \n",
      "19             391  \n",
      "20             287  \n"
     ]
    }
   ],
   "source": [
    "import pandas as pd\n",
    "from faker import Faker\n",
    "import random\n",
    "\n",
    "# Initialize Faker\n",
    "fake = Faker()\n",
    "\n",
    "# Generate fake product table\n",
    "product_ids = [str(fake.random_number(digits=3)).zfill(3) for _ in range(21)]\n",
    "Category_ID = [str(fake.random_number(digits=3)).zfill(2) for _ in range(21)]\n",
    "products = [fake.random_element(elements=['PVC pipes', 'Copper pipes', 'Galvanized steel pipes', 'PEX pipes', 'Couplings', 'Sinks', 'Toilets', 'Taps', 'Showers', 'Fauckets', 'Bathtub', 'Drain Cleaner', 'Drain Pipe', 'Water tanks', 'Gas Heater', 'Electric Heater', 'Water meters', 'Wrench', 'Adjustable wrenches', 'Urinals']) for _ in range(21)]\n",
    "categories = ['Pipes' if product in ['PVC pipes', 'Copper pipes', 'Galvanized steel pipes', 'PEX pipes'] else\n",
    "                 'Fixtures' if product in ['Sinks', 'Toilets', 'Taps', 'Showers', 'Fauckets', 'Bathtub', 'Urinals'] else\n",
    "                 'Heaters' if product in ['Gas Heater', 'Electric Heater', 'Water Heater'] else\n",
    "                 'Pipe Fittings' if product == 'Couplings' else\n",
    "                 'Drainage' if product in ['Drain Cleaner', 'Drain Pipe', 'Water tanks'] else\n",
    "                 'Tools' if product in ['Wrench', 'Adjustable wrenches'] else\n",
    "                 'Other' for product in products]\n",
    "prices = [round(fake.random_number(digits=3), 2) for _ in range(21)]\n",
    "stock_quantity = [fake.random_int(min=0, max=1000) for _ in range(21)]\n",
    "\n",
    "# Convert to DataFrame\n",
    "df = pd.DataFrame({\n",
    "    'Product ID': product_ids,\n",
    "    'Category ID': Category_ID,\n",
    "    'Product': products,\n",
    "    'Category': categories,\n",
    "    'Price': prices,\n",
    "    'Stock Quantity': stock_quantity\n",
    "})\n",
    "\n",
    "# Output the DataFrame\n",
    "print(df)"
   ]
  },
  {
   "cell_type": "code",
   "execution_count": 99,
   "id": "1c0c768f",
   "metadata": {},
   "outputs": [],
   "source": [
    "df.to_csv('Products_RK2.csv', index=False)"
   ]
  },
  {
   "cell_type": "code",
   "execution_count": null,
   "id": "8b31d3aa",
   "metadata": {},
   "outputs": [],
   "source": []
  }
 ],
 "metadata": {
  "kernelspec": {
   "display_name": "Python 3 (ipykernel)",
   "language": "python",
   "name": "python3"
  },
  "language_info": {
   "codemirror_mode": {
    "name": "ipython",
    "version": 3
   },
   "file_extension": ".py",
   "mimetype": "text/x-python",
   "name": "python",
   "nbconvert_exporter": "python",
   "pygments_lexer": "ipython3",
   "version": "3.11.5"
  }
 },
 "nbformat": 4,
 "nbformat_minor": 5
}
